{
 "cells": [
  {
   "cell_type": "code",
   "execution_count": 2,
   "metadata": {},
   "outputs": [],
   "source": [
    "%load_ext autoreload\n",
    "%reload_ext autoreload\n",
    "%autoreload 2\n",
    "import os\n",
    "\n",
    "\n",
    "import cv2\n",
    "import shutil\n",
    "import numpy as np\n",
    "\n",
    "from PIL import Image, ImageDraw\n",
    "from ultralytics import YOLO\n",
    "\n",
    "from utils.utils import list_file_r, copy_image_to_sub_dir, create_yolo_annotation_from_mask"
   ]
  },
  {
   "cell_type": "code",
   "execution_count": null,
   "metadata": {},
   "outputs": [],
   "source": [
    "# validate model\n",
    "model = YOLO('runs/segment/augmented/weights/best.pt')\n",
    "val_results = model.val(data='val.yaml', task='detect')"
   ]
  },
  {
   "cell_type": "code",
   "execution_count": 6,
   "metadata": {},
   "outputs": [
    {
     "name": "stdout",
     "output_type": "stream",
     "text": [
      "\n",
      "image 1/22 d:\\xie\\Vision\\mcp_yolo\\datasets\\CF_simulation\\real_image\\test_gs\\0006.tif: 512x640 6 ink traces, 14.0ms\n",
      "image 2/22 d:\\xie\\Vision\\mcp_yolo\\datasets\\CF_simulation\\real_image\\test_gs\\01_line_Radius5_2_Density2000_2000_Width60_Reflection_0.tif: 640x640 8 ink traces, 17.0ms\n",
      "image 3/22 d:\\xie\\Vision\\mcp_yolo\\datasets\\CF_simulation\\real_image\\test_gs\\1.tif: 640x640 6 ink traces, 17.0ms\n",
      "image 4/22 d:\\xie\\Vision\\mcp_yolo\\datasets\\CF_simulation\\real_image\\test_gs\\2.tif: 640x640 4 ink traces, 17.0ms\n",
      "image 5/22 d:\\xie\\Vision\\mcp_yolo\\datasets\\CF_simulation\\real_image\\test_gs\\2400.tif: 512x640 1 ink trace, 15.0ms\n",
      "image 6/22 d:\\xie\\Vision\\mcp_yolo\\datasets\\CF_simulation\\real_image\\test_gs\\3.tif: 640x640 6 ink traces, 17.0ms\n",
      "image 7/22 d:\\xie\\Vision\\mcp_yolo\\datasets\\CF_simulation\\real_image\\test_gs\\4.tif: 640x640 8 ink traces, 17.0ms\n",
      "image 8/22 d:\\xie\\Vision\\mcp_yolo\\datasets\\CF_simulation\\real_image\\test_gs\\hdt5_0010.tif: 512x640 6 ink traces, 15.0ms\n",
      "image 9/22 d:\\xie\\Vision\\mcp_yolo\\datasets\\CF_simulation\\real_image\\test_gs\\hdt5_1482.tif: 512x640 12 ink traces, 13.0ms\n",
      "image 10/22 d:\\xie\\Vision\\mcp_yolo\\datasets\\CF_simulation\\real_image\\test_gs\\hdt5_1483.tif: 512x640 7 ink traces, 15.0ms\n",
      "image 11/22 d:\\xie\\Vision\\mcp_yolo\\datasets\\CF_simulation\\real_image\\test_gs\\hdt_0146.tif: 512x640 13 ink traces, 14.0ms\n",
      "image 12/22 d:\\xie\\Vision\\mcp_yolo\\datasets\\CF_simulation\\real_image\\test_gs\\image110.bmp: 640x640 3 ink traces, 18.0ms\n",
      "image 13/22 d:\\xie\\Vision\\mcp_yolo\\datasets\\CF_simulation\\real_image\\test_gs\\image184.bmp: 640x640 3 ink traces, 17.0ms\n",
      "image 14/22 d:\\xie\\Vision\\mcp_yolo\\datasets\\CF_simulation\\real_image\\test_gs\\image192.bmp: 640x640 3 ink traces, 17.0ms\n",
      "image 15/22 d:\\xie\\Vision\\mcp_yolo\\datasets\\CF_simulation\\real_image\\test_gs\\image330.bmp: 640x640 3 ink traces, 17.0ms\n",
      "image 16/22 d:\\xie\\Vision\\mcp_yolo\\datasets\\CF_simulation\\real_image\\test_gs\\image490.bmp: 640x640 3 ink traces, 18.0ms\n",
      "image 17/22 d:\\xie\\Vision\\mcp_yolo\\datasets\\CF_simulation\\real_image\\test_gs\\image524.bmp: 640x640 3 ink traces, 15.0ms\n",
      "image 18/22 d:\\xie\\Vision\\mcp_yolo\\datasets\\CF_simulation\\real_image\\test_gs\\image676.bmp: 640x640 3 ink traces, 15.0ms\n",
      "image 19/22 d:\\xie\\Vision\\mcp_yolo\\datasets\\CF_simulation\\real_image\\test_gs\\image690.bmp: 640x640 3 ink traces, 16.0ms\n",
      "image 20/22 d:\\xie\\Vision\\mcp_yolo\\datasets\\CF_simulation\\real_image\\test_gs\\image803.bmp: 640x640 3 ink traces, 15.0ms\n",
      "image 21/22 d:\\xie\\Vision\\mcp_yolo\\datasets\\CF_simulation\\real_image\\test_gs\\image870.bmp: 640x640 4 ink traces, 15.0ms\n",
      "image 22/22 d:\\xie\\Vision\\mcp_yolo\\datasets\\CF_simulation\\real_image\\test_gs\\image885.bmp: 640x640 3 ink traces, 16.0ms\n",
      "Speed: 2.2ms preprocess, 15.9ms inference, 1.5ms postprocess per image at shape (1, 3, 640, 640)\n",
      "Results saved to \u001b[1mreal_image_test\\real_image_test24\u001b[0m\n"
     ]
    }
   ],
   "source": [
    "model = YOLO('runs/segment/augmented_orig+supps_large_640_50epochs/weights/best.pt')\n",
    "inference_results = model(source='datasets/CF_simulation/real_image/test_gs/', save=True, project='real_image_test' ,name='real_image_test', conf=0.70)"
   ]
  },
  {
   "cell_type": "code",
   "execution_count": 162,
   "metadata": {},
   "outputs": [],
   "source": [
    "img = Image.open('datasets/CF_simulation/real_image/test/hdt5_1483.tif').convert('1')\n",
    "#img.show()\n",
    "img.save('datasets/CF_simulation/real_image/test_bw/hdt5_1483.tif')"
   ]
  },
  {
   "cell_type": "code",
   "execution_count": 3,
   "metadata": {},
   "outputs": [
    {
     "ename": "NameError",
     "evalue": "name 'inference_results' is not defined",
     "output_type": "error",
     "traceback": [
      "\u001b[1;31m---------------------------------------------------------------------------\u001b[0m",
      "\u001b[1;31mNameError\u001b[0m                                 Traceback (most recent call last)",
      "Cell \u001b[1;32mIn[3], line 8\u001b[0m\n\u001b[0;32m      6\u001b[0m draw \u001b[38;5;241m=\u001b[39m ImageDraw\u001b[38;5;241m.\u001b[39mDraw(img) \n\u001b[0;32m      7\u001b[0m w, h \u001b[38;5;241m=\u001b[39m img\u001b[38;5;241m.\u001b[39msize\n\u001b[1;32m----> 8\u001b[0m \u001b[38;5;28;01mfor\u001b[39;00m coos \u001b[38;5;129;01min\u001b[39;00m \u001b[43minference_results\u001b[49m[\u001b[38;5;241m0\u001b[39m]\u001b[38;5;241m.\u001b[39mmasks\u001b[38;5;241m.\u001b[39mxy:\n\u001b[0;32m      9\u001b[0m     start \u001b[38;5;241m=\u001b[39m time\u001b[38;5;241m.\u001b[39mtime_ns()\n\u001b[0;32m     10\u001b[0m     \u001b[38;5;66;03m# get LMS estimation\u001b[39;00m\n",
      "\u001b[1;31mNameError\u001b[0m: name 'inference_results' is not defined"
     ]
    }
   ],
   "source": [
    "import matplotlib.pyplot as plt\n",
    "import time\n",
    "#img = cv2.imread('datasets/CF_simulation/real_image/test/hdt5_0010.tif')\n",
    "#img = Image.open('real_image_test/real_image_test/hdt5_1482.tif') \n",
    "img = Image.open('real_image_test/real_image_test7/01_line_Radius5_2_Density2000_2000_Width60_Reflection_0.tif') \n",
    "draw = ImageDraw.Draw(img) \n",
    "w, h = img.size\n",
    "for coos in inference_results[0].masks.xy:\n",
    "    start = time.time_ns()\n",
    "    # get LMS estimation\n",
    "    x, y = coos[:,0:1], coos[:,1:]\n",
    "    X = np.concatenate((np.ones_like(x), x), axis=-1)\n",
    "    XT = X.transpose()\n",
    "    XTX = XT @ X\n",
    "    theta = np.linalg.inv(XTX) @ (XT @ y)\n",
    "    theta=theta.reshape(-1)\n",
    "    intercept, slope = theta[0], theta[1]\n",
    "    \n",
    "    # get projection distances\n",
    "    y_hat = X@theta\n",
    "    x_hat = (y_hat-intercept)/slope\n",
    "    projection_2 = np.stack((x_hat, y_hat), axis=1)\n",
    "    a = np.array([[1], [slope]])\n",
    "    B = np.concatenate((x, y), axis=-1).transpose()\n",
    "    B[-1] -= intercept\n",
    "    P = a@(a.transpose()@B)/(a.transpose()@a)\n",
    "    B[-1] += intercept\n",
    "    P[-1] += intercept\n",
    "    E = B-P\n",
    "    # normalize\n",
    "    E[0]/=w\n",
    "    E[1]/=h\n",
    "    # calculate distance\n",
    "    distances = (E**2).sum(axis=0)**.5\n",
    "    estimated_widths = distances.mean()*2\n",
    "    #estimated_widths_2 = \n",
    "    print('Elapsed time: {:.5e}'.format((time.time_ns()-start)/1e9))\n",
    "\n",
    "    # draw kernel\n",
    "    draw_points = [(0, int(intercept)), (w, int(intercept+slope*w))]\n",
    "    draw.line(draw_points, fill='green', width=10)\n",
    "    # draw projection\n",
    "    choice = np.random.choice(range(coos.shape[0]))\n",
    "    random_coo, projection = B.transpose()[choice], P.transpose()[choice]\n",
    "    draw_points = [tuple(random_coo), tuple(projection)]\n",
    "    draw.line(draw_points, fill='blue', width=5)\n",
    "    print(estimated_widths)\n",
    "\n",
    "#img.show()\n",
    "plt.imshow(np.array(img))"
   ]
  },
  {
   "cell_type": "code",
   "execution_count": 47,
   "metadata": {},
   "outputs": [
    {
     "data": {
      "text/plain": [
       "0.06947559352041428"
      ]
     },
     "execution_count": 47,
     "metadata": {},
     "output_type": "execute_result"
    }
   ],
   "source": [
    "prediction = np.array(\n",
    "    [0.053740,\n",
    "0.053740,\n",
    "0.053740,\n",
    "0.056569,\n",
    "0.054447,\n",
    "0.053740,\n",
    "0.054447,\n",
    "0.055861]\n",
    ")\n",
    "gt = np.array(\n",
    "    [0.061518,\n",
    "0.060811,\n",
    "0.061518,\n",
    "0.053033,\n",
    "0.053033,\n",
    "0.053033,\n",
    "0.053033,\n",
    "0.053033,]\n",
    ")\n",
    "np.abs(((prediction-gt)/gt)).mean()"
   ]
  },
  {
   "cell_type": "code",
   "execution_count": 45,
   "metadata": {},
   "outputs": [
    {
     "data": {
      "text/plain": [
       "0.050025175"
      ]
     },
     "execution_count": 45,
     "metadata": {},
     "output_type": "execute_result"
    }
   ],
   "source": [
    "np.abs(np.array([   -0.08642,   -0.069476,   -0.067315,    0.033356,    0.048161,    0.055445,   -0.035815,   0.0042134])).mean()"
   ]
  },
  {
   "cell_type": "code",
   "execution_count": 49,
   "metadata": {},
   "outputs": [
    {
     "name": "stdout",
     "output_type": "stream",
     "text": [
      "0.265872\n"
     ]
    }
   ],
   "source": [
    "# check masks\n",
    "img = Image.open('real_image_test/real_image_test7/01_line_Radius5_2_Density2000_2000_Width60_Reflection_0.tif')\n",
    "mask = Image.new(\"RGB\", img.size, \"black\")  \n",
    "\n",
    "\n",
    "for coos in inference_results[0].masks.xy:\n",
    "    polygons = ImageDraw.Draw(mask)\n",
    "    polygons.polygon(coos, fill='white')\n",
    "    # calculate the individual width\n",
    "    temp_mask = Image.new(\"RGB\", img.size, \"black\")\n",
    "    temp = ImageDraw.Draw(temp_mask)  \n",
    "    temp.polygon(coos, fill='white')\n",
    "    temp_mask = temp_mask.convert('1')\n",
    "    #temp_mask.show()\n",
    "    temp_mask = np.array(temp_mask)\n",
    "    \n",
    "    scanned_heights=np.array([])\n",
    "    for col in temp_mask.T:\n",
    "        col_sum = col.sum()\n",
    "        if col_sum:\n",
    "            scanned_heights = np.append(scanned_heights,col.sum())\n",
    "    #print(\"{:.6f}\".format(np.quantile(scanned_heights, 0.5, method='median_unbiased')/2**.5/temp_mask.shape[-1]))\n",
    "    #print(scanned_heights.max()/2**.5)\n",
    "#mask.show()\n",
    "mask = mask.convert('1')\n",
    "#mask.show()\n",
    "mask = np.array(mask)\n",
    "scanned_heights=np.array([])\n",
    "for col in mask.T:\n",
    "    col_sum = col.sum()\n",
    "    if col_sum:\n",
    "        scanned_heights = np.append(scanned_heights,col.sum())\n",
    "print(\"{:.6f}\".format(np.quantile(scanned_heights, 0.5, method='median_unbiased')/2**.5/temp_mask.shape[-1]))\n",
    "mask_matrix = np.array(mask)"
   ]
  },
  {
   "cell_type": "code",
   "execution_count": 2,
   "metadata": {},
   "outputs": [],
   "source": [
    "import torch\n",
    "torch.cuda.empty_cache()"
   ]
  }
 ],
 "metadata": {
  "kernelspec": {
   "display_name": ".venv",
   "language": "python",
   "name": "python3"
  },
  "language_info": {
   "codemirror_mode": {
    "name": "ipython",
    "version": 3
   },
   "file_extension": ".py",
   "mimetype": "text/x-python",
   "name": "python",
   "nbconvert_exporter": "python",
   "pygments_lexer": "ipython3",
   "version": "3.11.6"
  }
 },
 "nbformat": 4,
 "nbformat_minor": 2
}
